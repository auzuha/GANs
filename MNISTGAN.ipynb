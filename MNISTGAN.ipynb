{
  "nbformat": 4,
  "nbformat_minor": 0,
  "metadata": {
    "colab": {
      "name": "MNISTGAN.ipynb",
      "provenance": [],
      "collapsed_sections": [],
      "mount_file_id": "14tsXMKwEnGIJ2IaTF45iUUHO_6sEg1GL",
      "authorship_tag": "ABX9TyNiErbkCB8Jot8Lse5nNOsL",
      "include_colab_link": true
    },
    "kernelspec": {
      "name": "python3",
      "display_name": "Python 3"
    },
    "language_info": {
      "name": "python"
    },
    "accelerator": "GPU",
    "widgets": {
      "application/vnd.jupyter.widget-state+json": {
        "d4d7dc6dbd8e4b74b3ca97344b8d1c7b": {
          "model_module": "@jupyter-widgets/controls",
          "model_name": "HBoxModel",
          "state": {
            "_view_name": "HBoxView",
            "_dom_classes": [],
            "_model_name": "HBoxModel",
            "_view_module": "@jupyter-widgets/controls",
            "_model_module_version": "1.5.0",
            "_view_count": null,
            "_view_module_version": "1.5.0",
            "box_style": "",
            "layout": "IPY_MODEL_cdcc9f2e8b2a4994a84d96c391d2ec02",
            "_model_module": "@jupyter-widgets/controls",
            "children": [
              "IPY_MODEL_2c7c3bc1531040f0ac576d8618fdb38a",
              "IPY_MODEL_a177ac1bc53545bea450adc661b5fd71"
            ]
          }
        },
        "cdcc9f2e8b2a4994a84d96c391d2ec02": {
          "model_module": "@jupyter-widgets/base",
          "model_name": "LayoutModel",
          "state": {
            "_view_name": "LayoutView",
            "grid_template_rows": null,
            "right": null,
            "justify_content": null,
            "_view_module": "@jupyter-widgets/base",
            "overflow": null,
            "_model_module_version": "1.2.0",
            "_view_count": null,
            "flex_flow": null,
            "width": null,
            "min_width": null,
            "border": null,
            "align_items": null,
            "bottom": null,
            "_model_module": "@jupyter-widgets/base",
            "top": null,
            "grid_column": null,
            "overflow_y": null,
            "overflow_x": null,
            "grid_auto_flow": null,
            "grid_area": null,
            "grid_template_columns": null,
            "flex": null,
            "_model_name": "LayoutModel",
            "justify_items": null,
            "grid_row": null,
            "max_height": null,
            "align_content": null,
            "visibility": null,
            "align_self": null,
            "height": null,
            "min_height": null,
            "padding": null,
            "grid_auto_rows": null,
            "grid_gap": null,
            "max_width": null,
            "order": null,
            "_view_module_version": "1.2.0",
            "grid_template_areas": null,
            "object_position": null,
            "object_fit": null,
            "grid_auto_columns": null,
            "margin": null,
            "display": null,
            "left": null
          }
        },
        "2c7c3bc1531040f0ac576d8618fdb38a": {
          "model_module": "@jupyter-widgets/controls",
          "model_name": "FloatProgressModel",
          "state": {
            "_view_name": "ProgressView",
            "style": "IPY_MODEL_91cd23aa940c4d3abbbe68b108cb15ba",
            "_dom_classes": [],
            "description": "",
            "_model_name": "FloatProgressModel",
            "bar_style": "success",
            "max": 9912422,
            "_view_module": "@jupyter-widgets/controls",
            "_model_module_version": "1.5.0",
            "value": 9912422,
            "_view_count": null,
            "_view_module_version": "1.5.0",
            "orientation": "horizontal",
            "min": 0,
            "description_tooltip": null,
            "_model_module": "@jupyter-widgets/controls",
            "layout": "IPY_MODEL_2fa3ec9f2ece4418959d29f8e69d49db"
          }
        },
        "a177ac1bc53545bea450adc661b5fd71": {
          "model_module": "@jupyter-widgets/controls",
          "model_name": "HTMLModel",
          "state": {
            "_view_name": "HTMLView",
            "style": "IPY_MODEL_7054315204f146aa81dbd87423724711",
            "_dom_classes": [],
            "description": "",
            "_model_name": "HTMLModel",
            "placeholder": "​",
            "_view_module": "@jupyter-widgets/controls",
            "_model_module_version": "1.5.0",
            "value": " 9913344/? [05:28&lt;00:00, 30217.39it/s]",
            "_view_count": null,
            "_view_module_version": "1.5.0",
            "description_tooltip": null,
            "_model_module": "@jupyter-widgets/controls",
            "layout": "IPY_MODEL_b6f8105846064b3bb1ded4435cc3b911"
          }
        },
        "91cd23aa940c4d3abbbe68b108cb15ba": {
          "model_module": "@jupyter-widgets/controls",
          "model_name": "ProgressStyleModel",
          "state": {
            "_view_name": "StyleView",
            "_model_name": "ProgressStyleModel",
            "description_width": "initial",
            "_view_module": "@jupyter-widgets/base",
            "_model_module_version": "1.5.0",
            "_view_count": null,
            "_view_module_version": "1.2.0",
            "bar_color": null,
            "_model_module": "@jupyter-widgets/controls"
          }
        },
        "2fa3ec9f2ece4418959d29f8e69d49db": {
          "model_module": "@jupyter-widgets/base",
          "model_name": "LayoutModel",
          "state": {
            "_view_name": "LayoutView",
            "grid_template_rows": null,
            "right": null,
            "justify_content": null,
            "_view_module": "@jupyter-widgets/base",
            "overflow": null,
            "_model_module_version": "1.2.0",
            "_view_count": null,
            "flex_flow": null,
            "width": null,
            "min_width": null,
            "border": null,
            "align_items": null,
            "bottom": null,
            "_model_module": "@jupyter-widgets/base",
            "top": null,
            "grid_column": null,
            "overflow_y": null,
            "overflow_x": null,
            "grid_auto_flow": null,
            "grid_area": null,
            "grid_template_columns": null,
            "flex": null,
            "_model_name": "LayoutModel",
            "justify_items": null,
            "grid_row": null,
            "max_height": null,
            "align_content": null,
            "visibility": null,
            "align_self": null,
            "height": null,
            "min_height": null,
            "padding": null,
            "grid_auto_rows": null,
            "grid_gap": null,
            "max_width": null,
            "order": null,
            "_view_module_version": "1.2.0",
            "grid_template_areas": null,
            "object_position": null,
            "object_fit": null,
            "grid_auto_columns": null,
            "margin": null,
            "display": null,
            "left": null
          }
        },
        "7054315204f146aa81dbd87423724711": {
          "model_module": "@jupyter-widgets/controls",
          "model_name": "DescriptionStyleModel",
          "state": {
            "_view_name": "StyleView",
            "_model_name": "DescriptionStyleModel",
            "description_width": "",
            "_view_module": "@jupyter-widgets/base",
            "_model_module_version": "1.5.0",
            "_view_count": null,
            "_view_module_version": "1.2.0",
            "_model_module": "@jupyter-widgets/controls"
          }
        },
        "b6f8105846064b3bb1ded4435cc3b911": {
          "model_module": "@jupyter-widgets/base",
          "model_name": "LayoutModel",
          "state": {
            "_view_name": "LayoutView",
            "grid_template_rows": null,
            "right": null,
            "justify_content": null,
            "_view_module": "@jupyter-widgets/base",
            "overflow": null,
            "_model_module_version": "1.2.0",
            "_view_count": null,
            "flex_flow": null,
            "width": null,
            "min_width": null,
            "border": null,
            "align_items": null,
            "bottom": null,
            "_model_module": "@jupyter-widgets/base",
            "top": null,
            "grid_column": null,
            "overflow_y": null,
            "overflow_x": null,
            "grid_auto_flow": null,
            "grid_area": null,
            "grid_template_columns": null,
            "flex": null,
            "_model_name": "LayoutModel",
            "justify_items": null,
            "grid_row": null,
            "max_height": null,
            "align_content": null,
            "visibility": null,
            "align_self": null,
            "height": null,
            "min_height": null,
            "padding": null,
            "grid_auto_rows": null,
            "grid_gap": null,
            "max_width": null,
            "order": null,
            "_view_module_version": "1.2.0",
            "grid_template_areas": null,
            "object_position": null,
            "object_fit": null,
            "grid_auto_columns": null,
            "margin": null,
            "display": null,
            "left": null
          }
        },
        "42596b2ad9014c90bb6ce10879cc1ecf": {
          "model_module": "@jupyter-widgets/controls",
          "model_name": "HBoxModel",
          "state": {
            "_view_name": "HBoxView",
            "_dom_classes": [],
            "_model_name": "HBoxModel",
            "_view_module": "@jupyter-widgets/controls",
            "_model_module_version": "1.5.0",
            "_view_count": null,
            "_view_module_version": "1.5.0",
            "box_style": "",
            "layout": "IPY_MODEL_93423b584d88481bbd87327af9a85f2c",
            "_model_module": "@jupyter-widgets/controls",
            "children": [
              "IPY_MODEL_347ee4ea717e4e94bbe0679445e92e68",
              "IPY_MODEL_72ed981e0da4404991f0e3d8a133476b"
            ]
          }
        },
        "93423b584d88481bbd87327af9a85f2c": {
          "model_module": "@jupyter-widgets/base",
          "model_name": "LayoutModel",
          "state": {
            "_view_name": "LayoutView",
            "grid_template_rows": null,
            "right": null,
            "justify_content": null,
            "_view_module": "@jupyter-widgets/base",
            "overflow": null,
            "_model_module_version": "1.2.0",
            "_view_count": null,
            "flex_flow": null,
            "width": null,
            "min_width": null,
            "border": null,
            "align_items": null,
            "bottom": null,
            "_model_module": "@jupyter-widgets/base",
            "top": null,
            "grid_column": null,
            "overflow_y": null,
            "overflow_x": null,
            "grid_auto_flow": null,
            "grid_area": null,
            "grid_template_columns": null,
            "flex": null,
            "_model_name": "LayoutModel",
            "justify_items": null,
            "grid_row": null,
            "max_height": null,
            "align_content": null,
            "visibility": null,
            "align_self": null,
            "height": null,
            "min_height": null,
            "padding": null,
            "grid_auto_rows": null,
            "grid_gap": null,
            "max_width": null,
            "order": null,
            "_view_module_version": "1.2.0",
            "grid_template_areas": null,
            "object_position": null,
            "object_fit": null,
            "grid_auto_columns": null,
            "margin": null,
            "display": null,
            "left": null
          }
        },
        "347ee4ea717e4e94bbe0679445e92e68": {
          "model_module": "@jupyter-widgets/controls",
          "model_name": "FloatProgressModel",
          "state": {
            "_view_name": "ProgressView",
            "style": "IPY_MODEL_7110bb73dff64647805c2b8ea5734736",
            "_dom_classes": [],
            "description": "",
            "_model_name": "FloatProgressModel",
            "bar_style": "success",
            "max": 28881,
            "_view_module": "@jupyter-widgets/controls",
            "_model_module_version": "1.5.0",
            "value": 28881,
            "_view_count": null,
            "_view_module_version": "1.5.0",
            "orientation": "horizontal",
            "min": 0,
            "description_tooltip": null,
            "_model_module": "@jupyter-widgets/controls",
            "layout": "IPY_MODEL_8dcd4c8fbbe54425a5dac0b57174e198"
          }
        },
        "72ed981e0da4404991f0e3d8a133476b": {
          "model_module": "@jupyter-widgets/controls",
          "model_name": "HTMLModel",
          "state": {
            "_view_name": "HTMLView",
            "style": "IPY_MODEL_49b916d6ed77456e96fbae38b2ec1c04",
            "_dom_classes": [],
            "description": "",
            "_model_name": "HTMLModel",
            "placeholder": "​",
            "_view_module": "@jupyter-widgets/controls",
            "_model_module_version": "1.5.0",
            "value": " 29696/? [00:30&lt;00:00, 958.86it/s]",
            "_view_count": null,
            "_view_module_version": "1.5.0",
            "description_tooltip": null,
            "_model_module": "@jupyter-widgets/controls",
            "layout": "IPY_MODEL_b659dd6e451f4c1d8308ab7a385458b9"
          }
        },
        "7110bb73dff64647805c2b8ea5734736": {
          "model_module": "@jupyter-widgets/controls",
          "model_name": "ProgressStyleModel",
          "state": {
            "_view_name": "StyleView",
            "_model_name": "ProgressStyleModel",
            "description_width": "initial",
            "_view_module": "@jupyter-widgets/base",
            "_model_module_version": "1.5.0",
            "_view_count": null,
            "_view_module_version": "1.2.0",
            "bar_color": null,
            "_model_module": "@jupyter-widgets/controls"
          }
        },
        "8dcd4c8fbbe54425a5dac0b57174e198": {
          "model_module": "@jupyter-widgets/base",
          "model_name": "LayoutModel",
          "state": {
            "_view_name": "LayoutView",
            "grid_template_rows": null,
            "right": null,
            "justify_content": null,
            "_view_module": "@jupyter-widgets/base",
            "overflow": null,
            "_model_module_version": "1.2.0",
            "_view_count": null,
            "flex_flow": null,
            "width": null,
            "min_width": null,
            "border": null,
            "align_items": null,
            "bottom": null,
            "_model_module": "@jupyter-widgets/base",
            "top": null,
            "grid_column": null,
            "overflow_y": null,
            "overflow_x": null,
            "grid_auto_flow": null,
            "grid_area": null,
            "grid_template_columns": null,
            "flex": null,
            "_model_name": "LayoutModel",
            "justify_items": null,
            "grid_row": null,
            "max_height": null,
            "align_content": null,
            "visibility": null,
            "align_self": null,
            "height": null,
            "min_height": null,
            "padding": null,
            "grid_auto_rows": null,
            "grid_gap": null,
            "max_width": null,
            "order": null,
            "_view_module_version": "1.2.0",
            "grid_template_areas": null,
            "object_position": null,
            "object_fit": null,
            "grid_auto_columns": null,
            "margin": null,
            "display": null,
            "left": null
          }
        },
        "49b916d6ed77456e96fbae38b2ec1c04": {
          "model_module": "@jupyter-widgets/controls",
          "model_name": "DescriptionStyleModel",
          "state": {
            "_view_name": "StyleView",
            "_model_name": "DescriptionStyleModel",
            "description_width": "",
            "_view_module": "@jupyter-widgets/base",
            "_model_module_version": "1.5.0",
            "_view_count": null,
            "_view_module_version": "1.2.0",
            "_model_module": "@jupyter-widgets/controls"
          }
        },
        "b659dd6e451f4c1d8308ab7a385458b9": {
          "model_module": "@jupyter-widgets/base",
          "model_name": "LayoutModel",
          "state": {
            "_view_name": "LayoutView",
            "grid_template_rows": null,
            "right": null,
            "justify_content": null,
            "_view_module": "@jupyter-widgets/base",
            "overflow": null,
            "_model_module_version": "1.2.0",
            "_view_count": null,
            "flex_flow": null,
            "width": null,
            "min_width": null,
            "border": null,
            "align_items": null,
            "bottom": null,
            "_model_module": "@jupyter-widgets/base",
            "top": null,
            "grid_column": null,
            "overflow_y": null,
            "overflow_x": null,
            "grid_auto_flow": null,
            "grid_area": null,
            "grid_template_columns": null,
            "flex": null,
            "_model_name": "LayoutModel",
            "justify_items": null,
            "grid_row": null,
            "max_height": null,
            "align_content": null,
            "visibility": null,
            "align_self": null,
            "height": null,
            "min_height": null,
            "padding": null,
            "grid_auto_rows": null,
            "grid_gap": null,
            "max_width": null,
            "order": null,
            "_view_module_version": "1.2.0",
            "grid_template_areas": null,
            "object_position": null,
            "object_fit": null,
            "grid_auto_columns": null,
            "margin": null,
            "display": null,
            "left": null
          }
        },
        "75cb73bbb9b946f2a2bf542b55052868": {
          "model_module": "@jupyter-widgets/controls",
          "model_name": "HBoxModel",
          "state": {
            "_view_name": "HBoxView",
            "_dom_classes": [],
            "_model_name": "HBoxModel",
            "_view_module": "@jupyter-widgets/controls",
            "_model_module_version": "1.5.0",
            "_view_count": null,
            "_view_module_version": "1.5.0",
            "box_style": "",
            "layout": "IPY_MODEL_1410031d311f42cc930660f830e87cea",
            "_model_module": "@jupyter-widgets/controls",
            "children": [
              "IPY_MODEL_2ce87353e1ec481681e3589c62ee0a57",
              "IPY_MODEL_1996712612fe4158b544a2a29cd8b1c8"
            ]
          }
        },
        "1410031d311f42cc930660f830e87cea": {
          "model_module": "@jupyter-widgets/base",
          "model_name": "LayoutModel",
          "state": {
            "_view_name": "LayoutView",
            "grid_template_rows": null,
            "right": null,
            "justify_content": null,
            "_view_module": "@jupyter-widgets/base",
            "overflow": null,
            "_model_module_version": "1.2.0",
            "_view_count": null,
            "flex_flow": null,
            "width": null,
            "min_width": null,
            "border": null,
            "align_items": null,
            "bottom": null,
            "_model_module": "@jupyter-widgets/base",
            "top": null,
            "grid_column": null,
            "overflow_y": null,
            "overflow_x": null,
            "grid_auto_flow": null,
            "grid_area": null,
            "grid_template_columns": null,
            "flex": null,
            "_model_name": "LayoutModel",
            "justify_items": null,
            "grid_row": null,
            "max_height": null,
            "align_content": null,
            "visibility": null,
            "align_self": null,
            "height": null,
            "min_height": null,
            "padding": null,
            "grid_auto_rows": null,
            "grid_gap": null,
            "max_width": null,
            "order": null,
            "_view_module_version": "1.2.0",
            "grid_template_areas": null,
            "object_position": null,
            "object_fit": null,
            "grid_auto_columns": null,
            "margin": null,
            "display": null,
            "left": null
          }
        },
        "2ce87353e1ec481681e3589c62ee0a57": {
          "model_module": "@jupyter-widgets/controls",
          "model_name": "FloatProgressModel",
          "state": {
            "_view_name": "ProgressView",
            "style": "IPY_MODEL_dc4bb6dac1d44564a6445b4388bc3055",
            "_dom_classes": [],
            "description": "",
            "_model_name": "FloatProgressModel",
            "bar_style": "success",
            "max": 1648877,
            "_view_module": "@jupyter-widgets/controls",
            "_model_module_version": "1.5.0",
            "value": 1648877,
            "_view_count": null,
            "_view_module_version": "1.5.0",
            "orientation": "horizontal",
            "min": 0,
            "description_tooltip": null,
            "_model_module": "@jupyter-widgets/controls",
            "layout": "IPY_MODEL_e01a60ecc6114181839b207bf2a88276"
          }
        },
        "1996712612fe4158b544a2a29cd8b1c8": {
          "model_module": "@jupyter-widgets/controls",
          "model_name": "HTMLModel",
          "state": {
            "_view_name": "HTMLView",
            "style": "IPY_MODEL_5916c79abd9447b1bc8a2a5cc87d218f",
            "_dom_classes": [],
            "description": "",
            "_model_name": "HTMLModel",
            "placeholder": "​",
            "_view_module": "@jupyter-widgets/controls",
            "_model_module_version": "1.5.0",
            "value": " 1649664/? [00:30&lt;00:00, 54123.00it/s]",
            "_view_count": null,
            "_view_module_version": "1.5.0",
            "description_tooltip": null,
            "_model_module": "@jupyter-widgets/controls",
            "layout": "IPY_MODEL_787ba5451eac458cb044e382531c02b7"
          }
        },
        "dc4bb6dac1d44564a6445b4388bc3055": {
          "model_module": "@jupyter-widgets/controls",
          "model_name": "ProgressStyleModel",
          "state": {
            "_view_name": "StyleView",
            "_model_name": "ProgressStyleModel",
            "description_width": "initial",
            "_view_module": "@jupyter-widgets/base",
            "_model_module_version": "1.5.0",
            "_view_count": null,
            "_view_module_version": "1.2.0",
            "bar_color": null,
            "_model_module": "@jupyter-widgets/controls"
          }
        },
        "e01a60ecc6114181839b207bf2a88276": {
          "model_module": "@jupyter-widgets/base",
          "model_name": "LayoutModel",
          "state": {
            "_view_name": "LayoutView",
            "grid_template_rows": null,
            "right": null,
            "justify_content": null,
            "_view_module": "@jupyter-widgets/base",
            "overflow": null,
            "_model_module_version": "1.2.0",
            "_view_count": null,
            "flex_flow": null,
            "width": null,
            "min_width": null,
            "border": null,
            "align_items": null,
            "bottom": null,
            "_model_module": "@jupyter-widgets/base",
            "top": null,
            "grid_column": null,
            "overflow_y": null,
            "overflow_x": null,
            "grid_auto_flow": null,
            "grid_area": null,
            "grid_template_columns": null,
            "flex": null,
            "_model_name": "LayoutModel",
            "justify_items": null,
            "grid_row": null,
            "max_height": null,
            "align_content": null,
            "visibility": null,
            "align_self": null,
            "height": null,
            "min_height": null,
            "padding": null,
            "grid_auto_rows": null,
            "grid_gap": null,
            "max_width": null,
            "order": null,
            "_view_module_version": "1.2.0",
            "grid_template_areas": null,
            "object_position": null,
            "object_fit": null,
            "grid_auto_columns": null,
            "margin": null,
            "display": null,
            "left": null
          }
        },
        "5916c79abd9447b1bc8a2a5cc87d218f": {
          "model_module": "@jupyter-widgets/controls",
          "model_name": "DescriptionStyleModel",
          "state": {
            "_view_name": "StyleView",
            "_model_name": "DescriptionStyleModel",
            "description_width": "",
            "_view_module": "@jupyter-widgets/base",
            "_model_module_version": "1.5.0",
            "_view_count": null,
            "_view_module_version": "1.2.0",
            "_model_module": "@jupyter-widgets/controls"
          }
        },
        "787ba5451eac458cb044e382531c02b7": {
          "model_module": "@jupyter-widgets/base",
          "model_name": "LayoutModel",
          "state": {
            "_view_name": "LayoutView",
            "grid_template_rows": null,
            "right": null,
            "justify_content": null,
            "_view_module": "@jupyter-widgets/base",
            "overflow": null,
            "_model_module_version": "1.2.0",
            "_view_count": null,
            "flex_flow": null,
            "width": null,
            "min_width": null,
            "border": null,
            "align_items": null,
            "bottom": null,
            "_model_module": "@jupyter-widgets/base",
            "top": null,
            "grid_column": null,
            "overflow_y": null,
            "overflow_x": null,
            "grid_auto_flow": null,
            "grid_area": null,
            "grid_template_columns": null,
            "flex": null,
            "_model_name": "LayoutModel",
            "justify_items": null,
            "grid_row": null,
            "max_height": null,
            "align_content": null,
            "visibility": null,
            "align_self": null,
            "height": null,
            "min_height": null,
            "padding": null,
            "grid_auto_rows": null,
            "grid_gap": null,
            "max_width": null,
            "order": null,
            "_view_module_version": "1.2.0",
            "grid_template_areas": null,
            "object_position": null,
            "object_fit": null,
            "grid_auto_columns": null,
            "margin": null,
            "display": null,
            "left": null
          }
        },
        "01cbbd1c5d634c549450175db88849c0": {
          "model_module": "@jupyter-widgets/controls",
          "model_name": "HBoxModel",
          "state": {
            "_view_name": "HBoxView",
            "_dom_classes": [],
            "_model_name": "HBoxModel",
            "_view_module": "@jupyter-widgets/controls",
            "_model_module_version": "1.5.0",
            "_view_count": null,
            "_view_module_version": "1.5.0",
            "box_style": "",
            "layout": "IPY_MODEL_6937d3989b434619ad69ed33626cabe2",
            "_model_module": "@jupyter-widgets/controls",
            "children": [
              "IPY_MODEL_3579f110e3c8406cad574b5d325bd7e6",
              "IPY_MODEL_ad8609f7c5f142859a8be4f2b9311135"
            ]
          }
        },
        "6937d3989b434619ad69ed33626cabe2": {
          "model_module": "@jupyter-widgets/base",
          "model_name": "LayoutModel",
          "state": {
            "_view_name": "LayoutView",
            "grid_template_rows": null,
            "right": null,
            "justify_content": null,
            "_view_module": "@jupyter-widgets/base",
            "overflow": null,
            "_model_module_version": "1.2.0",
            "_view_count": null,
            "flex_flow": null,
            "width": null,
            "min_width": null,
            "border": null,
            "align_items": null,
            "bottom": null,
            "_model_module": "@jupyter-widgets/base",
            "top": null,
            "grid_column": null,
            "overflow_y": null,
            "overflow_x": null,
            "grid_auto_flow": null,
            "grid_area": null,
            "grid_template_columns": null,
            "flex": null,
            "_model_name": "LayoutModel",
            "justify_items": null,
            "grid_row": null,
            "max_height": null,
            "align_content": null,
            "visibility": null,
            "align_self": null,
            "height": null,
            "min_height": null,
            "padding": null,
            "grid_auto_rows": null,
            "grid_gap": null,
            "max_width": null,
            "order": null,
            "_view_module_version": "1.2.0",
            "grid_template_areas": null,
            "object_position": null,
            "object_fit": null,
            "grid_auto_columns": null,
            "margin": null,
            "display": null,
            "left": null
          }
        },
        "3579f110e3c8406cad574b5d325bd7e6": {
          "model_module": "@jupyter-widgets/controls",
          "model_name": "FloatProgressModel",
          "state": {
            "_view_name": "ProgressView",
            "style": "IPY_MODEL_0506db065284434d890b1ce510224ce8",
            "_dom_classes": [],
            "description": "",
            "_model_name": "FloatProgressModel",
            "bar_style": "success",
            "max": 4542,
            "_view_module": "@jupyter-widgets/controls",
            "_model_module_version": "1.5.0",
            "value": 4542,
            "_view_count": null,
            "_view_module_version": "1.5.0",
            "orientation": "horizontal",
            "min": 0,
            "description_tooltip": null,
            "_model_module": "@jupyter-widgets/controls",
            "layout": "IPY_MODEL_8410ac683ce5460a98654b1fba7d28be"
          }
        },
        "ad8609f7c5f142859a8be4f2b9311135": {
          "model_module": "@jupyter-widgets/controls",
          "model_name": "HTMLModel",
          "state": {
            "_view_name": "HTMLView",
            "style": "IPY_MODEL_ee15b99318ac40318724054235d44f30",
            "_dom_classes": [],
            "description": "",
            "_model_name": "HTMLModel",
            "placeholder": "​",
            "_view_module": "@jupyter-widgets/controls",
            "_model_module_version": "1.5.0",
            "value": " 5120/? [01:24&lt;00:00, 60.71it/s]",
            "_view_count": null,
            "_view_module_version": "1.5.0",
            "description_tooltip": null,
            "_model_module": "@jupyter-widgets/controls",
            "layout": "IPY_MODEL_9a389fd074dc430fa85023d716aee040"
          }
        },
        "0506db065284434d890b1ce510224ce8": {
          "model_module": "@jupyter-widgets/controls",
          "model_name": "ProgressStyleModel",
          "state": {
            "_view_name": "StyleView",
            "_model_name": "ProgressStyleModel",
            "description_width": "initial",
            "_view_module": "@jupyter-widgets/base",
            "_model_module_version": "1.5.0",
            "_view_count": null,
            "_view_module_version": "1.2.0",
            "bar_color": null,
            "_model_module": "@jupyter-widgets/controls"
          }
        },
        "8410ac683ce5460a98654b1fba7d28be": {
          "model_module": "@jupyter-widgets/base",
          "model_name": "LayoutModel",
          "state": {
            "_view_name": "LayoutView",
            "grid_template_rows": null,
            "right": null,
            "justify_content": null,
            "_view_module": "@jupyter-widgets/base",
            "overflow": null,
            "_model_module_version": "1.2.0",
            "_view_count": null,
            "flex_flow": null,
            "width": null,
            "min_width": null,
            "border": null,
            "align_items": null,
            "bottom": null,
            "_model_module": "@jupyter-widgets/base",
            "top": null,
            "grid_column": null,
            "overflow_y": null,
            "overflow_x": null,
            "grid_auto_flow": null,
            "grid_area": null,
            "grid_template_columns": null,
            "flex": null,
            "_model_name": "LayoutModel",
            "justify_items": null,
            "grid_row": null,
            "max_height": null,
            "align_content": null,
            "visibility": null,
            "align_self": null,
            "height": null,
            "min_height": null,
            "padding": null,
            "grid_auto_rows": null,
            "grid_gap": null,
            "max_width": null,
            "order": null,
            "_view_module_version": "1.2.0",
            "grid_template_areas": null,
            "object_position": null,
            "object_fit": null,
            "grid_auto_columns": null,
            "margin": null,
            "display": null,
            "left": null
          }
        },
        "ee15b99318ac40318724054235d44f30": {
          "model_module": "@jupyter-widgets/controls",
          "model_name": "DescriptionStyleModel",
          "state": {
            "_view_name": "StyleView",
            "_model_name": "DescriptionStyleModel",
            "description_width": "",
            "_view_module": "@jupyter-widgets/base",
            "_model_module_version": "1.5.0",
            "_view_count": null,
            "_view_module_version": "1.2.0",
            "_model_module": "@jupyter-widgets/controls"
          }
        },
        "9a389fd074dc430fa85023d716aee040": {
          "model_module": "@jupyter-widgets/base",
          "model_name": "LayoutModel",
          "state": {
            "_view_name": "LayoutView",
            "grid_template_rows": null,
            "right": null,
            "justify_content": null,
            "_view_module": "@jupyter-widgets/base",
            "overflow": null,
            "_model_module_version": "1.2.0",
            "_view_count": null,
            "flex_flow": null,
            "width": null,
            "min_width": null,
            "border": null,
            "align_items": null,
            "bottom": null,
            "_model_module": "@jupyter-widgets/base",
            "top": null,
            "grid_column": null,
            "overflow_y": null,
            "overflow_x": null,
            "grid_auto_flow": null,
            "grid_area": null,
            "grid_template_columns": null,
            "flex": null,
            "_model_name": "LayoutModel",
            "justify_items": null,
            "grid_row": null,
            "max_height": null,
            "align_content": null,
            "visibility": null,
            "align_self": null,
            "height": null,
            "min_height": null,
            "padding": null,
            "grid_auto_rows": null,
            "grid_gap": null,
            "max_width": null,
            "order": null,
            "_view_module_version": "1.2.0",
            "grid_template_areas": null,
            "object_position": null,
            "object_fit": null,
            "grid_auto_columns": null,
            "margin": null,
            "display": null,
            "left": null
          }
        }
      }
    }
  },
  "cells": [
    {
      "cell_type": "markdown",
      "metadata": {
        "id": "view-in-github",
        "colab_type": "text"
      },
      "source": [
        "<a href=\"https://colab.research.google.com/github/auzuha/GANs/blob/main/MNISTGAN.ipynb\" target=\"_parent\"><img src=\"https://colab.research.google.com/assets/colab-badge.svg\" alt=\"Open In Colab\"/></a>"
      ]
    },
    {
      "cell_type": "code",
      "metadata": {
        "id": "9WT0pNAVamUh"
      },
      "source": [
        "import torch\n",
        "import torch.nn as nn\n",
        "import torchvision\n",
        "import torchvision.datasets as datasets\n",
        "import torchvision.transforms as transforms\n",
        "import matplotlib.pyplot as plt\n",
        "from torch.utils.data import DataLoader\n",
        "import numpy as np"
      ],
      "execution_count": null,
      "outputs": []
    },
    {
      "cell_type": "code",
      "metadata": {
        "id": "_wIaZmXbarLl",
        "colab": {
          "base_uri": "https://localhost:8080/",
          "height": 546,
          "referenced_widgets": [
            "d4d7dc6dbd8e4b74b3ca97344b8d1c7b",
            "cdcc9f2e8b2a4994a84d96c391d2ec02",
            "2c7c3bc1531040f0ac576d8618fdb38a",
            "a177ac1bc53545bea450adc661b5fd71",
            "91cd23aa940c4d3abbbe68b108cb15ba",
            "2fa3ec9f2ece4418959d29f8e69d49db",
            "7054315204f146aa81dbd87423724711",
            "b6f8105846064b3bb1ded4435cc3b911",
            "42596b2ad9014c90bb6ce10879cc1ecf",
            "93423b584d88481bbd87327af9a85f2c",
            "347ee4ea717e4e94bbe0679445e92e68",
            "72ed981e0da4404991f0e3d8a133476b",
            "7110bb73dff64647805c2b8ea5734736",
            "8dcd4c8fbbe54425a5dac0b57174e198",
            "49b916d6ed77456e96fbae38b2ec1c04",
            "b659dd6e451f4c1d8308ab7a385458b9",
            "75cb73bbb9b946f2a2bf542b55052868",
            "1410031d311f42cc930660f830e87cea",
            "2ce87353e1ec481681e3589c62ee0a57",
            "1996712612fe4158b544a2a29cd8b1c8",
            "dc4bb6dac1d44564a6445b4388bc3055",
            "e01a60ecc6114181839b207bf2a88276",
            "5916c79abd9447b1bc8a2a5cc87d218f",
            "787ba5451eac458cb044e382531c02b7",
            "01cbbd1c5d634c549450175db88849c0",
            "6937d3989b434619ad69ed33626cabe2",
            "3579f110e3c8406cad574b5d325bd7e6",
            "ad8609f7c5f142859a8be4f2b9311135",
            "0506db065284434d890b1ce510224ce8",
            "8410ac683ce5460a98654b1fba7d28be",
            "ee15b99318ac40318724054235d44f30",
            "9a389fd074dc430fa85023d716aee040"
          ]
        },
        "outputId": "c827a346-353b-4173-c56f-18816a43b43f"
      },
      "source": [
        "device = 'cuda' if torch.cuda.is_available() else 'cpu'\n",
        "if device == 'cuda':\n",
        "  torch.cuda.empty_cache()\n",
        "transform = transforms.Compose([transforms.ToTensor() , transforms.Normalize((0.5,),(0.5,))])\n",
        "train_data = datasets.MNIST(root=\"imdata/\",download=True,train=True,transform=transform)\n"
      ],
      "execution_count": null,
      "outputs": [
        {
          "output_type": "stream",
          "text": [
            "Downloading http://yann.lecun.com/exdb/mnist/train-images-idx3-ubyte.gz\n",
            "Downloading http://yann.lecun.com/exdb/mnist/train-images-idx3-ubyte.gz to imdata/MNIST/raw/train-images-idx3-ubyte.gz\n"
          ],
          "name": "stdout"
        },
        {
          "output_type": "display_data",
          "data": {
            "application/vnd.jupyter.widget-view+json": {
              "model_id": "d4d7dc6dbd8e4b74b3ca97344b8d1c7b",
              "version_minor": 0,
              "version_major": 2
            },
            "text/plain": [
              "HBox(children=(FloatProgress(value=0.0, max=9912422.0), HTML(value='')))"
            ]
          },
          "metadata": {
            "tags": []
          }
        },
        {
          "output_type": "stream",
          "text": [
            "\n",
            "Extracting imdata/MNIST/raw/train-images-idx3-ubyte.gz to imdata/MNIST/raw\n",
            "\n",
            "Downloading http://yann.lecun.com/exdb/mnist/train-labels-idx1-ubyte.gz\n",
            "Downloading http://yann.lecun.com/exdb/mnist/train-labels-idx1-ubyte.gz to imdata/MNIST/raw/train-labels-idx1-ubyte.gz\n"
          ],
          "name": "stdout"
        },
        {
          "output_type": "display_data",
          "data": {
            "application/vnd.jupyter.widget-view+json": {
              "model_id": "42596b2ad9014c90bb6ce10879cc1ecf",
              "version_minor": 0,
              "version_major": 2
            },
            "text/plain": [
              "HBox(children=(FloatProgress(value=0.0, max=28881.0), HTML(value='')))"
            ]
          },
          "metadata": {
            "tags": []
          }
        },
        {
          "output_type": "stream",
          "text": [
            "\n",
            "Extracting imdata/MNIST/raw/train-labels-idx1-ubyte.gz to imdata/MNIST/raw\n",
            "\n",
            "Downloading http://yann.lecun.com/exdb/mnist/t10k-images-idx3-ubyte.gz\n",
            "Downloading http://yann.lecun.com/exdb/mnist/t10k-images-idx3-ubyte.gz to imdata/MNIST/raw/t10k-images-idx3-ubyte.gz\n"
          ],
          "name": "stdout"
        },
        {
          "output_type": "display_data",
          "data": {
            "application/vnd.jupyter.widget-view+json": {
              "model_id": "75cb73bbb9b946f2a2bf542b55052868",
              "version_minor": 0,
              "version_major": 2
            },
            "text/plain": [
              "HBox(children=(FloatProgress(value=0.0, max=1648877.0), HTML(value='')))"
            ]
          },
          "metadata": {
            "tags": []
          }
        },
        {
          "output_type": "stream",
          "text": [
            "\n",
            "Extracting imdata/MNIST/raw/t10k-images-idx3-ubyte.gz to imdata/MNIST/raw\n",
            "\n",
            "Downloading http://yann.lecun.com/exdb/mnist/t10k-labels-idx1-ubyte.gz\n",
            "Downloading http://yann.lecun.com/exdb/mnist/t10k-labels-idx1-ubyte.gz to imdata/MNIST/raw/t10k-labels-idx1-ubyte.gz\n"
          ],
          "name": "stdout"
        },
        {
          "output_type": "display_data",
          "data": {
            "application/vnd.jupyter.widget-view+json": {
              "model_id": "01cbbd1c5d634c549450175db88849c0",
              "version_minor": 0,
              "version_major": 2
            },
            "text/plain": [
              "HBox(children=(FloatProgress(value=0.0, max=4542.0), HTML(value='')))"
            ]
          },
          "metadata": {
            "tags": []
          }
        },
        {
          "output_type": "stream",
          "text": [
            "\n",
            "Extracting imdata/MNIST/raw/t10k-labels-idx1-ubyte.gz to imdata/MNIST/raw\n",
            "\n"
          ],
          "name": "stdout"
        },
        {
          "output_type": "stream",
          "text": [
            "/usr/local/lib/python3.7/dist-packages/torchvision/datasets/mnist.py:498: UserWarning: The given NumPy array is not writeable, and PyTorch does not support non-writeable tensors. This means you can write to the underlying (supposedly non-writeable) NumPy array using the tensor. You may want to copy the array to protect its data or make it writeable before converting it to a tensor. This type of warning will be suppressed for the rest of this program. (Triggered internally at  /pytorch/torch/csrc/utils/tensor_numpy.cpp:180.)\n",
            "  return torch.from_numpy(parsed.astype(m[2], copy=False)).view(*s)\n"
          ],
          "name": "stderr"
        }
      ]
    },
    {
      "cell_type": "code",
      "metadata": {
        "id": "N_IleRmBav8m"
      },
      "source": [
        "train_loader = DataLoader(train_data,128,shuffle=False)\n",
        "#latent vector depth\n",
        "latent_size = 100\n",
        "lr=0.0002\n",
        "#fixed noise vector for visualizing training progress\n",
        "_latent_vector = np.random.uniform(-1,1,size=(128,100,1,1))\n",
        "_latent_vector = torch.from_numpy(_latent_vector).to(device)"
      ],
      "execution_count": null,
      "outputs": []
    },
    {
      "cell_type": "code",
      "metadata": {
        "colab": {
          "base_uri": "https://localhost:8080/"
        },
        "id": "tGzGlQzvazhk",
        "outputId": "4d0d79bb-6ddc-453e-ebd4-627a943f8204"
      },
      "source": [
        "\n",
        "\n",
        "#DCGAN Standard Architecture with a few adjustments to match data shape\n",
        "disc = nn.Sequential(\n",
        "    nn.Conv2d(1, 64, kernel_size=(4, 4), stride=(2, 2), padding=(1, 1)),\n",
        "    nn.BatchNorm2d(64),\n",
        "    nn.LeakyReLU(negative_slope=0.2),\n",
        "    nn.Conv2d(64, 128, kernel_size=(4, 4), stride=(2, 2), padding=(1, 1)),\n",
        "    nn.BatchNorm2d(128),\n",
        "    nn.LeakyReLU(negative_slope=0.2),\n",
        "    nn.Conv2d(128, 512, kernel_size=(4, 4), stride=(2, 2), padding=(1, 1)),\n",
        "    nn.BatchNorm2d(512),\n",
        "    nn.LeakyReLU(negative_slope=0.2),\n",
        "    nn.Conv2d(512 , 1 , 3 ),\n",
        "    nn.Sigmoid()\n",
        ")\n",
        "\n",
        "gen = nn.Sequential(\n",
        "    nn.ConvTranspose2d(100, 512, kernel_size=(3,3), stride=(1, 1)),\n",
        "    nn.BatchNorm2d(512),\n",
        "    nn.ReLU(inplace=True),\n",
        "    nn.ConvTranspose2d(512, 256, kernel_size=(3,3), stride=(2, 2), padding=(1, 1)),\n",
        "    nn.BatchNorm2d(256),\n",
        "    nn.ReLU(inplace=True),\n",
        "    nn.ConvTranspose2d(256, 128, kernel_size=(2,2), stride=(2, 2), padding=(1, 1)),\n",
        "    nn.BatchNorm2d(128),\n",
        "    nn.ReLU(inplace=True),\n",
        "    nn.ConvTranspose2d(128, 64, kernel_size=(2,2), stride=(2, 2), padding=(1, 1)),\n",
        "    nn.BatchNorm2d(64),\n",
        "    nn.ReLU(inplace=True),\n",
        "    nn.ConvTranspose2d(64, 1, kernel_size=(4,4), stride=(2, 2), padding=(1, 1)),\n",
        "    nn.Tanh()   \n",
        ")\n",
        "\n",
        "\n",
        "gen.to(device)\n",
        "disc.to(device)\n",
        "\n",
        "True"
      ],
      "execution_count": null,
      "outputs": [
        {
          "output_type": "execute_result",
          "data": {
            "text/plain": [
              "True"
            ]
          },
          "metadata": {
            "tags": []
          },
          "execution_count": 11
        }
      ]
    },
    {
      "cell_type": "code",
      "metadata": {
        "id": "ymdRwG8Fa1Cs"
      },
      "source": [
        "#loss function Binary Cross Entropy\n",
        "criterion = nn.BCELoss()\n",
        "\n",
        "\n",
        "#optimizers for discriminator and generator\n",
        "disc_optim = torch.optim.Adam(disc.parameters() , lr)\n",
        "gen_optim = torch.optim.Adam(gen.parameters() , lr)"
      ],
      "execution_count": null,
      "outputs": []
    },
    {
      "cell_type": "code",
      "metadata": {
        "id": "TMooP3yxa2cH"
      },
      "source": [
        "#loss functions to provide labels\n",
        "def real_loss(preds,smooth=False):\n",
        "    labels = torch.ones((preds.shape)).to(device)\n",
        "    if smooth:\n",
        "      labels = labels*0.9\n",
        "    loss = criterion(preds,labels)\n",
        "    return loss\n",
        "def fake_loss(preds):\n",
        "    labels = torch.zeros((preds.shape)).to(device)\n",
        "    loss = criterion(preds,labels)\n",
        "    return loss\n",
        "\n",
        "\n"
      ],
      "execution_count": null,
      "outputs": []
    },
    {
      "cell_type": "code",
      "metadata": {
        "colab": {
          "base_uri": "https://localhost:8080/"
        },
        "id": "Y2KWuSLDa3kU",
        "outputId": "10fe1800-6060-45ca-b652-236c87087670"
      },
      "source": [
        "batch = 0\n",
        "for epoch in range(1000):\n",
        "    for xb,yb in train_loader:\n",
        "        xb=xb.to(device)\n",
        "        yb=yb.to(device)\n",
        "\n",
        "        #xb = xb*2 - 1\n",
        "        ##Discriminator\n",
        "        disc_optim.zero_grad()\n",
        "        #real images\n",
        "        xb=xb.float()\n",
        "        yb=yb.float()\n",
        "        preds = disc(xb)\n",
        "        real_l = real_loss(preds,True)\n",
        "        #fake images\n",
        "        ###vcetor\n",
        "        latent_vector = np.random.uniform(-1,1,size=(len(yb),100,1,1))\n",
        "        latent_vector = torch.from_numpy(latent_vector).to(device)\n",
        "        #generate fake images using latent vector (noise) \n",
        "        fakes = gen(latent_vector.float())\n",
        "        fake_preds = disc(fakes.float())\n",
        "        fake_l = fake_loss(fake_preds)\n",
        "        total_loss = real_l + fake_l\n",
        "        total_loss.backward()\n",
        "        disc_optim.step()\n",
        "\n",
        "        ##GENERATOR\n",
        "        gen_optim.zero_grad()\n",
        "        #latent_vector = np.random.uniform(-1,1,size=(len(yb),100))\n",
        "        #latent_vector = torch.from_numpy(latent_vector)\n",
        "        ##latent_vector = torch.randint(0,2,(len(yb),latent_size,1,1)).cuda()\n",
        "        fakes = gen(latent_vector.float()) #generate fake images\n",
        "        fake_preds = disc(fakes.float())\n",
        "        gen_loss = real_loss(fake_preds)\n",
        "        gen_loss.backward()\n",
        "        gen_optim.step()        \n",
        "        fakes = gen(_latent_vector.float())\n",
        "        copyfakes = fakes[:64]\n",
        "        torchvision.utils.save_image(copyfakes,f\"drive/MyDrive/imgs3/epoch_{epoch+1}_{batch}.jpg\")\n",
        "        batch += 1\n",
        "         \n",
        "    print(f\"Epoch{epoch+1}/{num_epochs} , disc_loss:{total_loss} ,gen_loss:{gen_loss}\")\n",
        "    \n",
        "    '''\n",
        "    plt.imshow(fakes[0].reshape(28,28).detach().cpu(),cmap=\"gray\")\n",
        "    #plt.imshow(fakes[0].permute(1,2,0).detach().cpu(),cmap=\"gray\")\n",
        "    plt.title(f\"epoch : {epoch+1}\")\n",
        "    plt.show()'''\n"
      ],
      "execution_count": null,
      "outputs": [
        {
          "output_type": "stream",
          "text": [
            "tensor(0.3835, device='cuda:0', grad_fn=<AddBackward0>) tensor(5.2192, device='cuda:0', grad_fn=<BinaryCrossEntropyBackward>) 469\n",
            "tensor(0.3650, device='cuda:0', grad_fn=<AddBackward0>) tensor(5.4871, device='cuda:0', grad_fn=<BinaryCrossEntropyBackward>) 938\n",
            "tensor(0.3627, device='cuda:0', grad_fn=<AddBackward0>) tensor(7.7910, device='cuda:0', grad_fn=<BinaryCrossEntropyBackward>) 1407\n",
            "tensor(0.5586, device='cuda:0', grad_fn=<AddBackward0>) tensor(3.5929, device='cuda:0', grad_fn=<BinaryCrossEntropyBackward>) 1876\n",
            "tensor(0.3896, device='cuda:0', grad_fn=<AddBackward0>) tensor(8.3056, device='cuda:0', grad_fn=<BinaryCrossEntropyBackward>) 2345\n",
            "tensor(0.4062, device='cuda:0', grad_fn=<AddBackward0>) tensor(8.8338, device='cuda:0', grad_fn=<BinaryCrossEntropyBackward>) 2814\n",
            "tensor(0.4390, device='cuda:0', grad_fn=<AddBackward0>) tensor(4.5569, device='cuda:0', grad_fn=<BinaryCrossEntropyBackward>) 3283\n",
            "tensor(0.4084, device='cuda:0', grad_fn=<AddBackward0>) tensor(6.9672, device='cuda:0', grad_fn=<BinaryCrossEntropyBackward>) 3752\n",
            "tensor(0.4682, device='cuda:0', grad_fn=<AddBackward0>) tensor(4.8352, device='cuda:0', grad_fn=<BinaryCrossEntropyBackward>) 4221\n",
            "tensor(0.4481, device='cuda:0', grad_fn=<AddBackward0>) tensor(5.1946, device='cuda:0', grad_fn=<BinaryCrossEntropyBackward>) 4690\n",
            "tensor(0.5273, device='cuda:0', grad_fn=<AddBackward0>) tensor(4.3135, device='cuda:0', grad_fn=<BinaryCrossEntropyBackward>) 5159\n",
            "tensor(0.6223, device='cuda:0', grad_fn=<AddBackward0>) tensor(2.9622, device='cuda:0', grad_fn=<BinaryCrossEntropyBackward>) 5628\n",
            "tensor(0.7475, device='cuda:0', grad_fn=<AddBackward0>) tensor(2.7260, device='cuda:0', grad_fn=<BinaryCrossEntropyBackward>) 6097\n",
            "tensor(0.7911, device='cuda:0', grad_fn=<AddBackward0>) tensor(2.5484, device='cuda:0', grad_fn=<BinaryCrossEntropyBackward>) 6566\n",
            "tensor(0.7611, device='cuda:0', grad_fn=<AddBackward0>) tensor(2.4964, device='cuda:0', grad_fn=<BinaryCrossEntropyBackward>) 7035\n",
            "tensor(0.6912, device='cuda:0', grad_fn=<AddBackward0>) tensor(3.1028, device='cuda:0', grad_fn=<BinaryCrossEntropyBackward>) 7504\n",
            "tensor(0.7689, device='cuda:0', grad_fn=<AddBackward0>) tensor(1.9767, device='cuda:0', grad_fn=<BinaryCrossEntropyBackward>) 7973\n",
            "tensor(0.7592, device='cuda:0', grad_fn=<AddBackward0>) tensor(2.1857, device='cuda:0', grad_fn=<BinaryCrossEntropyBackward>) 8442\n",
            "tensor(0.6491, device='cuda:0', grad_fn=<AddBackward0>) tensor(2.5111, device='cuda:0', grad_fn=<BinaryCrossEntropyBackward>) 8911\n",
            "tensor(0.7206, device='cuda:0', grad_fn=<AddBackward0>) tensor(2.4473, device='cuda:0', grad_fn=<BinaryCrossEntropyBackward>) 9380\n",
            "tensor(0.7006, device='cuda:0', grad_fn=<AddBackward0>) tensor(2.2174, device='cuda:0', grad_fn=<BinaryCrossEntropyBackward>) 9849\n"
          ],
          "name": "stdout"
        }
      ]
    },
    {
      "cell_type": "code",
      "metadata": {
        "id": "XiidP2zArZ9-"
      },
      "source": [
        ""
      ],
      "execution_count": null,
      "outputs": []
    },
    {
      "cell_type": "code",
      "metadata": {
        "id": "EzaBMzgza4wS"
      },
      "source": [
        ""
      ],
      "execution_count": null,
      "outputs": []
    }
  ]
}